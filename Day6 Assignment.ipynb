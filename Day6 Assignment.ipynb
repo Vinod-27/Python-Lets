{
 "cells": [
  {
   "cell_type": "code",
   "execution_count": 1,
   "metadata": {},
   "outputs": [
    {
     "name": "stdout",
     "output_type": "stream",
     "text": [
      "2094.3951023931954\n",
      "314.1592653589793\n"
     ]
    }
   ],
   "source": [
    "### Day6 Assignment 1 ###\n",
    "import math\n",
    "pi=math.pi\n",
    "class Cone():\n",
    "    def __init__(self,Radius,Height):\n",
    "        self.radius=Radius\n",
    "        self.height=Height\n",
    "\n",
    "    def Volume(self):\n",
    "        return pi*self.radius*self.radius*self.height*(1/3)\n",
    "\n",
    "    def Surface(self):\n",
    "        return pi*self.radius*self.radius\n",
    "\n",
    "v=Cone(10,20)\n",
    "print(v.Volume())\n",
    "print(v.Surface())"
   ]
  },
  {
   "cell_type": "code",
   "execution_count": 2,
   "metadata": {},
   "outputs": [
    {
     "name": "stdout",
     "output_type": "stream",
     "text": [
      "Enter the deposit amount4000\n",
      "Enter the withdraw amount2500\n",
      "Remaining balance 2500\n"
     ]
    }
   ],
   "source": [
    "### Day6 Assignment2 ###\n",
    "class Account:\n",
    "    def __init__(self):\n",
    "        self.balance=1000\n",
    "    def Deposit(self):\n",
    "        amt=int(input(\"Enter the deposit amount\"))\n",
    "        self.balance +=amt\n",
    "    def Withdraw(self):\n",
    "        amt=int(input(\"Enter the withdraw amount\"))\n",
    "        if self.balance<amt:\n",
    "            print(\"Insuffiecient balanace\")\n",
    "        else:\n",
    "            self.balance -=amt\n",
    "            print(\"Remaining balance %d\" %self.balance)\n",
    "\n",
    "acc=Account()\n",
    "acc.Deposit()\n",
    "acc.Withdraw()\n",
    "\n"
   ]
  },
  {
   "cell_type": "code",
   "execution_count": null,
   "metadata": {},
   "outputs": [],
   "source": []
  }
 ],
 "metadata": {
  "kernelspec": {
   "display_name": "Python 3",
   "language": "python",
   "name": "python3"
  },
  "language_info": {
   "codemirror_mode": {
    "name": "ipython",
    "version": 3
   },
   "file_extension": ".py",
   "mimetype": "text/x-python",
   "name": "python",
   "nbconvert_exporter": "python",
   "pygments_lexer": "ipython3",
   "version": "3.8.3"
  }
 },
 "nbformat": 4,
 "nbformat_minor": 4
}
